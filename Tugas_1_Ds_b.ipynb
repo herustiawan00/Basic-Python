{
  "nbformat": 4,
  "nbformat_minor": 0,
  "metadata": {
    "colab": {
      "name": "Tugas_1_Ds_b.ipynb",
      "provenance": [],
      "collapsed_sections": []
    },
    "kernelspec": {
      "name": "python3",
      "display_name": "Python 3"
    },
    "language_info": {
      "name": "python"
    }
  },
  "cells": [
    {
      "cell_type": "markdown",
      "source": [
        "# **Data Science Track**\n",
        "\n",
        "\n",
        "\n",
        "\n",
        "# **Data Types in Python**\n",
        "\n",
        "#   **(Python)**"
      ],
      "metadata": {
        "id": "_rM5OPlyLQAb"
      }
    },
    {
      "cell_type": "markdown",
      "source": [
        "## **Basic Data Type – Strings**\n",
        "\n",
        "---\n",
        "\n",
        "\n",
        "\n",
        "The python is default data types can be divided into 3 parts\n",
        "\n",
        "string data type is a data type that consists of a set of characters. \n",
        "In python this data type is usually put in quotation marks at the beginning  and end of the character set.\n",
        "if the character set is enclosed in quotation marks it will be immediately classified as a string.\n",
        "\n",
        "\n",
        "*   string data type is a data type that consists of a set of characters.\n",
        "*   In python this data type is usually put in quotation marks at the beginning  and end of the character set\n",
        "*   if the character set is enclosed in quotation marks it will be immediately classified as a string.\n",
        "\n",
        "\n",
        "\n",
        "\n"
      ],
      "metadata": {
        "id": "xHBs05DN3gkn"
      }
    },
    {
      "cell_type": "code",
      "source": [
        ""
      ],
      "metadata": {
        "id": "lJCY_EgeL6P1"
      },
      "execution_count": null,
      "outputs": []
    },
    {
      "cell_type": "code",
      "source": [
        "a='Hi everybody'\n",
        "type(a)\n"
      ],
      "metadata": {
        "colab": {
          "base_uri": "https://localhost:8080/"
        },
        "id": "cUdZV0ks0D9d",
        "outputId": "419eee80-34f7-4897-be6b-ebed989d9392"
      },
      "execution_count": null,
      "outputs": [
        {
          "output_type": "execute_result",
          "data": {
            "text/plain": [
              "str"
            ]
          },
          "metadata": {},
          "execution_count": 28
        }
      ]
    },
    {
      "cell_type": "code",
      "source": [
        "#it can be seen that the words or sentences are included in the string"
      ],
      "metadata": {
        "id": "nptakbT_0Mbo"
      },
      "execution_count": null,
      "outputs": []
    },
    {
      "cell_type": "code",
      "source": [
        "b=\"12\"\n",
        "type(b)\n"
      ],
      "metadata": {
        "colab": {
          "base_uri": "https://localhost:8080/"
        },
        "id": "ani4zpXz0V__",
        "outputId": "8341cbbe-be59-4ca4-e956-78d2c9bf293d"
      },
      "execution_count": null,
      "outputs": [
        {
          "output_type": "execute_result",
          "data": {
            "text/plain": [
              "str"
            ]
          },
          "metadata": {},
          "execution_count": 30
        }
      ]
    },
    {
      "cell_type": "markdown",
      "source": [
        "\n",
        "\n",
        "\n",
        "In addition to data types related to numbers,\n",
        "Python can also recognize data types consisting of\n",
        "unicode character set, on python this data type\n",
        "into the str or Strings class"
      ],
      "metadata": {
        "id": "vSBlzK8jKrcK"
      }
    },
    {
      "cell_type": "code",
      "source": [
        "say =\"me\"\n",
        "word=\"\"\"\n",
        "How to Land Your Dream Job\n",
        "Of Mice and Men\n",
        "The Cat in the Hat\"\"\"\n",
        "print(type(say))\n",
        "print(type(word))"
      ],
      "metadata": {
        "colab": {
          "base_uri": "https://localhost:8080/"
        },
        "id": "NH0VwxOfuTXQ",
        "outputId": "c179ab4e-ba27-4113-8562-f1ca151d7721"
      },
      "execution_count": null,
      "outputs": [
        {
          "output_type": "stream",
          "name": "stdout",
          "text": [
            "<class 'str'>\n",
            "<class 'str'>\n"
          ]
        }
      ]
    },
    {
      "cell_type": "code",
      "source": [
        "say\n"
      ],
      "metadata": {
        "colab": {
          "base_uri": "https://localhost:8080/",
          "height": 34
        },
        "id": "DF5O3n57vC9b",
        "outputId": "fd2ee0f4-58bc-46ac-bf15-e3be72cdf662"
      },
      "execution_count": null,
      "outputs": [
        {
          "output_type": "execute_result",
          "data": {
            "text/plain": [
              "'me'"
            ],
            "application/vnd.google.colaboratory.intrinsic+json": {
              "type": "string"
            }
          },
          "metadata": {},
          "execution_count": 33
        }
      ]
    },
    {
      "cell_type": "code",
      "source": [
        "word"
      ],
      "metadata": {
        "colab": {
          "base_uri": "https://localhost:8080/",
          "height": 34
        },
        "id": "eWQv5BwGvUM3",
        "outputId": "22ecc963-e85b-4efc-81e0-2ad05b971209"
      },
      "execution_count": null,
      "outputs": [
        {
          "output_type": "execute_result",
          "data": {
            "text/plain": [
              "'\\nHow to Land Your Dream Job\\nOf Mice and Men\\nThe Cat in the Hat'"
            ],
            "application/vnd.google.colaboratory.intrinsic+json": {
              "type": "string"
            }
          },
          "metadata": {},
          "execution_count": 34
        }
      ]
    },
    {
      "cell_type": "code",
      "source": [
        "print(say)"
      ],
      "metadata": {
        "colab": {
          "base_uri": "https://localhost:8080/"
        },
        "id": "llk-knqYvY0b",
        "outputId": "b4a7ea77-a749-4c56-c1c9-c1d3b1a38741"
      },
      "execution_count": null,
      "outputs": [
        {
          "output_type": "stream",
          "name": "stdout",
          "text": [
            "me\n"
          ]
        }
      ]
    },
    {
      "cell_type": "code",
      "source": [
        "print(word)"
      ],
      "metadata": {
        "colab": {
          "base_uri": "https://localhost:8080/"
        },
        "id": "E4YbyLxpvc1f",
        "outputId": "58205745-cebf-40f1-9c46-741cb39111af"
      },
      "execution_count": null,
      "outputs": [
        {
          "output_type": "stream",
          "name": "stdout",
          "text": [
            "\n",
            "How to Land Your Dream Job\n",
            "Of Mice and Men\n",
            "The Cat in the Hat\n"
          ]
        }
      ]
    },
    {
      "cell_type": "code",
      "source": [
        "say =\"me\"\n",
        "old = \"19\"\n",
        "word = \"\"\"\n",
        "How to Land Your Dream Job\n",
        "Of Mice and Men\n",
        "The Cat in the Hat\"\"\"\n",
        "word_2=\"One Year in Paris\\n The Book of Disquiet\\n A House for Mr. Biswas\\n\"\n",
        "print(say)\n",
        "print(old)\n",
        "print(word)\n",
        "print(word_2)\n",
        "print(type(say))\n",
        "print(type(word))\n",
        "print(type(word_2))\n",
        "type(old)"
      ],
      "metadata": {
        "colab": {
          "base_uri": "https://localhost:8080/"
        },
        "id": "yJkI_f7Yvtw9",
        "outputId": "7ee7dbc7-d5d1-4bf8-ba4a-e0e29c607fec"
      },
      "execution_count": null,
      "outputs": [
        {
          "output_type": "stream",
          "name": "stdout",
          "text": [
            "me\n",
            "17\n",
            "\n",
            "How to Land Your Dream Job\n",
            "Of Mice and Men\n",
            "The Cat in the Hat\n",
            "One Year in Paris\n",
            " The Book of Disquiet\n",
            " A House for Mr. Biswas\n",
            "\n",
            "<class 'str'>\n",
            "<class 'str'>\n",
            "<class 'str'>\n"
          ]
        },
        {
          "output_type": "execute_result",
          "data": {
            "text/plain": [
              "str"
            ]
          },
          "metadata": {},
          "execution_count": 37
        }
      ]
    },
    {
      "cell_type": "markdown",
      "source": [
        "The characteristic of Strings is, this data type is always\n",
        "wrapped in \" \" or ' ' . If we put\n",
        "number between these signs, then the data type will change\n",
        "be strings, not integers or floats"
      ],
      "metadata": {
        "id": "YaRqZZa440w7"
      }
    },
    {
      "cell_type": "markdown",
      "source": [
        "Because a string is a string of characters\n",
        "Unicode, then strings can be accessed like an array\n",
        "using the index, but we can not\n",
        "perform a task against a specific index,\n",
        "note the following code"
      ],
      "metadata": {
        "id": "X8d3Neh146Wz"
      }
    },
    {
      "cell_type": "code",
      "source": [
        "word_3=\"i python\"\n",
        "sentence=\"i am programmer\"\n",
        "print(word_3[0])\n",
        "print(word_3[5])\n",
        "print(sentence[0:4])\n",
        "print(sentence[5:])"
      ],
      "metadata": {
        "colab": {
          "base_uri": "https://localhost:8080/"
        },
        "id": "VLBnq-I00m_W",
        "outputId": "986fb2d3-23eb-40cc-bfa1-9a95d9568be9"
      },
      "execution_count": null,
      "outputs": [
        {
          "output_type": "stream",
          "name": "stdout",
          "text": [
            "i\n",
            "h\n",
            "i am\n",
            "programmer\n"
          ]
        }
      ]
    },
    {
      "cell_type": "markdown",
      "source": [
        "In addition to accessing the value at an index, strings in\n",
        "Python can also be sliced ​​by filling in the starting value\n",
        "and the stop value, but the character at the stop value does not\n",
        "will be included in the slicing result, or\n",
        "excluded.\n",
        "\n",
        "In addtions, we see that 12 is numeric but because it is quoted in quotes, the data will be read as a string by python."
      ],
      "metadata": {
        "id": "UrZbtP7C5lG-"
      }
    },
    {
      "cell_type": "markdown",
      "source": [
        "# **Basic Data Type – Numbers**\n",
        "\n",
        "---\n",
        "\n",
        "\n",
        "\n",
        "In python there are two basic data types:\n",
        "related to numbers and very often encountered, namely float, int and complex. Float or floating point is a decimal number, while int or integer is an integer, while Complex is a number in mathematics.\n",
        "\n",
        "Numeric data type which consists of three (3) types, such as Integer, Float, and Complex. data types are used to handle numeric in Python.\n",
        "\n",
        "Integer is a numeric type that represents all positive and negative integers, such as 1,2,3.-1,-2,-3 and so on.\n",
        "\n",
        "The float type in Python, designates a floating-point number. float values are specified with a decimal point, float type data example:3.14.\n",
        "\n",
        "Number types in Python also support imaginary numbers and complex numbers. Complex numbers are written in the formulation x + yj.\n"
      ],
      "metadata": {
        "id": "qriyFQ9z6rwE"
      }
    },
    {
      "cell_type": "code",
      "source": [
        "decimal_number = 1.25\n",
        "integers = 10\n",
        "x = 1\n",
        "complex_number = x + 2j  \n",
        "print(\"Data Type\",decimal_number,\"is\",type(decimal_number))\n",
        "print(\"Data Type\",integers,\"is\",type(integers))\n",
        "print(\"Data Type\",complex_number,\"is\",type(complex_number))"
      ],
      "metadata": {
        "colab": {
          "base_uri": "https://localhost:8080/"
        },
        "id": "uxp0Jq3h4KqB",
        "outputId": "3268ca2a-d21e-4ed6-98f6-11ea2d9d9dee"
      },
      "execution_count": null,
      "outputs": [
        {
          "output_type": "stream",
          "name": "stdout",
          "text": [
            "Data Type 1.25 is <class 'float'>\n",
            "Data Type 10 is <class 'int'>\n",
            "Data Type (1+2j) is <class 'complex'>\n"
          ]
        }
      ]
    },
    {
      "cell_type": "code",
      "source": [
        "print(decimal_number)\n",
        "print(integers)\n",
        "print(complex_number)"
      ],
      "metadata": {
        "colab": {
          "base_uri": "https://localhost:8080/"
        },
        "id": "fM9ae0wX5t_i",
        "outputId": "eeb0b452-132e-41c4-8f1a-314225b043ce"
      },
      "execution_count": null,
      "outputs": [
        {
          "output_type": "stream",
          "name": "stdout",
          "text": [
            "1.25\n",
            "10\n",
            "(1+2j)\n"
          ]
        }
      ]
    },
    {
      "cell_type": "markdown",
      "source": [
        "Without data type declaration, python can directly\n",
        "recognize the data type that we use in the variable\n",
        "integer_recognized as int ,\n",
        "decimal_number recognized as float\n",
        "and complex_number which is known as complex."
      ],
      "metadata": {
        "id": "nH64VPja9Hse"
      }
    },
    {
      "cell_type": "markdown",
      "source": [
        "# **Basic Data Type – Boolean**\n",
        "\n",
        "---\n",
        "\n",
        "\n",
        "\n",
        "as previously mentioned, boolean is a data type that can only contain 2 values, namely true and false. This data type is very useful in programming algorithms, especially when we start dealing with conditions and loops.\n",
        "\n",
        "Boolean is also known as a logical data type. This is because the boolean data type can also accept logical operations such as those in mathematics (conjunction, disjunction, negation, etc.) even though the name is different. Calm down… programming is not as difficult as math🙃\n",
        "\n",
        "The boolean data type recognizes comparison operators and logical operators, what else is that? This operator is used to get the boolean value of a condition. Relax we will discuss more later.\n"
      ],
      "metadata": {
        "id": "M1aWATzf-XwU"
      }
    },
    {
      "cell_type": "code",
      "source": [
        "foo = 12 < 10\n",
        "print(foo)\n",
        "foo = 12 > 10\n",
        "print(foo)\n",
        "foo = \"A\" == \"a\"\n",
        "print(foo)"
      ],
      "metadata": {
        "colab": {
          "base_uri": "https://localhost:8080/"
        },
        "id": "jrvicrcTIJjI",
        "outputId": "5e35420d-0ec1-41bb-ec89-53438d2e63ca"
      },
      "execution_count": null,
      "outputs": [
        {
          "output_type": "stream",
          "name": "stdout",
          "text": [
            "False\n",
            "True\n",
            "False\n"
          ]
        }
      ]
    },
    {
      "cell_type": "markdown",
      "source": [
        "In the first line, I store the result of the comparison operation 12 < 10 into the variable foo. Is 12 < 10? Wrong. So the value of the variable foo will contain the boolean False.\n",
        "\n",
        "In the third row, the comparison operation is reversed, i.e. is it 12 > 10? Right. So the value of the variable foo will contain the boolean True.\n",
        "\n",
        "Finally in the fifth line the comparison is whether \"A\" equals \"a\". Here I am comparing two strings, but because \"A\" is not the same as \"a\", then the variable foo will contain the boolean False."
      ],
      "metadata": {
        "id": "QGnBrmphI4t_"
      }
    },
    {
      "cell_type": "code",
      "source": [
        "tr = True\n",
        "fs = False\n",
        "type(tr)\n"
      ],
      "metadata": {
        "colab": {
          "base_uri": "https://localhost:8080/"
        },
        "id": "JSoAkJl0IUXf",
        "outputId": "af2d6aae-280d-4759-c038-150c7acce13a"
      },
      "execution_count": null,
      "outputs": [
        {
          "output_type": "execute_result",
          "data": {
            "text/plain": [
              "bool"
            ]
          },
          "metadata": {},
          "execution_count": 42
        }
      ]
    },
    {
      "cell_type": "code",
      "source": [
        "print(type(fs))"
      ],
      "metadata": {
        "colab": {
          "base_uri": "https://localhost:8080/"
        },
        "id": "cnBzBlHsIr5K",
        "outputId": "a3f8f02b-46ca-4653-f746-c78997640e6c"
      },
      "execution_count": null,
      "outputs": [
        {
          "output_type": "stream",
          "name": "stdout",
          "text": [
            "<class 'bool'>\n"
          ]
        }
      ]
    },
    {
      "cell_type": "markdown",
      "source": [
        "It should be noted here, for writing boolean values ​​must begin with a capital letter. If we try to write *true* or *false* it will output an error.\n",
        "\n",
        "The boolean output will contain the truth of a statement."
      ],
      "metadata": {
        "id": "bwiPn0YvJHZV"
      }
    }
  ]
}